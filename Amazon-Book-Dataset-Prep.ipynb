{
 "cells": [
  {
   "cell_type": "markdown",
   "metadata": {},
   "source": [
    "## Preprocess Amazon Products Dataset to include only Books related data"
   ]
  },
  {
   "cell_type": "markdown",
   "metadata": {},
   "source": [
    "The processed dataset will be written to csv format datafile."
   ]
  },
  {
   "cell_type": "code",
   "execution_count": 21,
   "metadata": {},
   "outputs": [
    {
     "name": "stdout",
     "output_type": "stream",
     "text": [
      "Requirement already satisfied: porter2stemmer in /conda/envs/rapids/lib/python3.6/site-packages (1.0)\n",
      "Requirement already satisfied: nltk in /conda/envs/rapids/lib/python3.6/site-packages (3.4.5)\n",
      "Requirement already satisfied: six in /conda/envs/rapids/lib/python3.6/site-packages (from nltk) (1.12.0)\n"
     ]
    }
   ],
   "source": [
    "!pip install porter2stemmer\n",
    "!pip install nltk"
   ]
  },
  {
   "cell_type": "code",
   "execution_count": 22,
   "metadata": {},
   "outputs": [
    {
     "name": "stderr",
     "output_type": "stream",
     "text": [
      "[nltk_data] Downloading package stopwords to /root/nltk_data...\n",
      "[nltk_data]   Package stopwords is already up-to-date!\n"
     ]
    }
   ],
   "source": [
    "import string\n",
    "import re\n",
    "import nltk\n",
    "import csv\n",
    "import pandas as pd\n",
    "\n",
    "nltk.download('stopwords')\n",
    "\n",
    "from nltk.corpus import stopwords\n",
    "\n",
    "# from porter2stemmer import Porter2Stemmer\n",
    "# stemmer = Porter2Stemmer()"
   ]
  },
  {
   "cell_type": "markdown",
   "metadata": {},
   "source": [
    "Dataset is taken from Stanford's SNAP http://snap.stanford.edu/data/amazon-meta.html. For the original Data Format, please refer to the link."
   ]
  },
  {
   "cell_type": "code",
   "execution_count": 3,
   "metadata": {},
   "outputs": [],
   "source": [
    "dataset=\"../data/amazon/products/products-review.txt\""
   ]
  },
  {
   "cell_type": "code",
   "execution_count": 4,
   "metadata": {},
   "outputs": [
    {
     "name": "stdout",
     "output_type": "stream",
     "text": [
      "CPU times: user 2min 18s, sys: 11 s, total: 2min 29s\n",
      "Wall time: 2min 29s\n"
     ]
    }
   ],
   "source": [
    "%%time\n",
    "fhr = open(dataset, 'r', encoding='utf-8', errors='ignore')\n",
    "\n",
    "def preprocess():\n",
    "    amazonProducts = {}\n",
    "    (Id, ASIN, Title, Categories, Group, Copurchased, SalesRank, TotalReviews, AvgRating, DegreeCentrality, ClusteringCoeff) = (\"\", \"\", \"\", \"\", \"\", \"\", 0, 0, 0.0, 0, 0.0)\n",
    "    \n",
    "    for line in fhr:\n",
    "        line = line.strip()\n",
    "        \n",
    "        if(line.startswith(\"Id\")):\n",
    "            Id = line[3:].strip()\n",
    "        elif(line.startswith(\"ASIN\")):\n",
    "            ASIN = line[5:].strip()\n",
    "        elif(line.startswith(\"title\")):\n",
    "            Title = line[6:].strip()\n",
    "            # Title = ' '.join(Title.split())\n",
    "        elif(line.startswith(\"group\")):\n",
    "            Group = line[6:].strip()\n",
    "        elif(line.startswith(\"salesrank\")):\n",
    "            SalesRank = line[10:].strip()\n",
    "        elif(line.startswith(\"similar\")):\n",
    "            ls = line.split()\n",
    "            Copurchased = ' '.join([c for c in ls[2:]])\n",
    "        elif(line.startswith(\"categories\")):\n",
    "            ls = line.split()\n",
    "            Categories = ' '.join((fhr.readline()).lower() for i in range(int(ls[1].strip())))\n",
    "            Categories = re.compile('[%s]' % '\\!\\\"\\#\\$\\%\\&\\'\\(\\)\\*\\+\\,\\-\\.\\/\\:\\;\\<\\=\\>\\?\\@\\^_\\`\\{\\|\\}\\~').sub(' ', Categories)\n",
    "            Categories = re.compile('[%s]' % re.escape(string.digits+string.punctuation)).sub(' ', Categories)\n",
    "            Categories = ' '.join(set(Categories.split())-set(stopwords.words(\"english\")))\n",
    "#             Categories = ' '.join(stemmer.stem(word) for word in Categories.split())\n",
    "        elif(line.startswith(\"reviews\")):\n",
    "            ls = line.split()\n",
    "            TotalReviews = ls[2].strip()\n",
    "            AvgRating = ls[2].strip()\n",
    "        elif(line == \"\"):\n",
    "            try:\n",
    "                MetaData = {}\n",
    "                if (ASIN != \"\"):\n",
    "                    amazonProducts[ASIN] = MetaData\n",
    "                MetaData['ASIN'] = ASIN\n",
    "                MetaData['Id'] = Id\n",
    "                MetaData['Title'] = Title\n",
    "                MetaData['Categories'] = ' '.join(set(Categories.split()))\n",
    "                MetaData['Group'] = Group\n",
    "                MetaData['Copurchased'] = Copurchased\n",
    "                MetaData['SalesRank'] = int(SalesRank) \n",
    "                MetaData['TotalReviews'] = int(TotalReviews)\n",
    "                MetaData['AvgRating'] = float(AvgRating)\n",
    "                MetaData['DegreeCentrality'] = DegreeCentrality\n",
    "                MetaData['ClusteringCoeff'] = ClusteringCoeff\n",
    "            except NameError:\n",
    "                continue\n",
    "            (Id, ASIN, Title, Categories, Group, Copurchased, SalesRank, TotalReviews, AvgRating, DegreeCentrality, ClusteringCoeff) = (\"\", \"\", \"\", \"\", \"\", \"\", 0, 0, 0.0, 0, 0.0)\n",
    "    \n",
    "    return amazonProducts\n",
    "    fhr.close()"
   ]
  },
  {
   "cell_type": "code",
   "execution_count": null,
   "metadata": {},
   "outputs": [],
   "source": [
    "amazonProducts = preprocess()"
   ]
  },
  {
   "cell_type": "code",
   "execution_count": 17,
   "metadata": {},
   "outputs": [],
   "source": [
    "def filter_books():\n",
    "    amazonBooks = {}\n",
    "    for asin, metadata in amazonProducts.items():\n",
    "        if(metadata['Group'] == 'Book'):\n",
    "            amazonBooks[asin] = amazonProducts[asin]\n",
    "    return amazonBooks\n",
    "\n",
    "def remove_startwith_b(amazonBooks):\n",
    "    for asin, metadata in list(amazonBooks.items()):\n",
    "        if asin.startswith('B'):\n",
    "            del amazonBooks[asin]\n",
    "    return amazonBooks\n",
    "\n",
    "def remove_non_books_copurchase(amazonBooks):\n",
    "    for asin, metadata in amazonBooks.items():\n",
    "        amazonBooks[asin]['Copurchased'] = ' '.join([cp for cp in metadata['Copurchased'].split() if cp in amazonBooks.keys()])\n",
    "    return amazonBooks\n"
   ]
  },
  {
   "cell_type": "code",
   "execution_count": 19,
   "metadata": {},
   "outputs": [],
   "source": [
    "amazon_books = filter_books()\n",
    "amazon_books = remove_startwith_b(amazon_books)\n",
    "amazon_books_refined = remove_non_books_copurchase(amazon_books)"
   ]
  },
  {
   "cell_type": "code",
   "execution_count": 20,
   "metadata": {},
   "outputs": [],
   "source": [
    "file = csv.writer(open(\"amazon-books-v2.0.csv\", \"w\"))\n",
    "\n",
    "def write_header_to_csv():\n",
    "    file.writerow([\"Id\", \"ASIN\", \"Title\", \"Categories\", \"Group\", \"Copurchased\", \n",
    "                   \"SalesRank\", \"TotalReviews\", \"AvgRating\"])\n",
    "    \n",
    "def write_to_csv(content):\n",
    "    for asin, metadata in content.items():\n",
    "        file.writerow([metadata[\"Id\"], metadata[\"ASIN\"], metadata[\"Title\"], metadata[\"Categories\"],\n",
    "                  metadata[\"Group\"], metadata[\"Copurchased\"], metadata[\"SalesRank\"], metadata[\"TotalReviews\"],\n",
    "                  metadata[\"AvgRating\"]])\n",
    "\n",
    "write_header_to_csv()\n",
    "write_to_csv(amazon_books_refined)"
   ]
  }
 ],
 "metadata": {
  "kernelspec": {
   "display_name": "Python 3",
   "language": "python",
   "name": "python3"
  },
  "language_info": {
   "codemirror_mode": {
    "name": "ipython",
    "version": 3
   },
   "file_extension": ".py",
   "mimetype": "text/x-python",
   "name": "python",
   "nbconvert_exporter": "python",
   "pygments_lexer": "ipython3",
   "version": "3.6.8"
  }
 },
 "nbformat": 4,
 "nbformat_minor": 4
}
